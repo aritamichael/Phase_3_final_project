{
 "cells": [
  {
   "cell_type": "markdown",
   "metadata": {},
   "source": [
    "<h1 style=\"text-align:center;\">TELECOM CHURN PREDICTION (SYRIA TEL) </h1>\n"
   ]
  },
  {
   "cell_type": "markdown",
   "metadata": {},
   "source": [
    "<h1 style=\"text-align:center;\">BUSINESS UNDERSTANDING  </h1>\n"
   ]
  },
  {
   "cell_type": "markdown",
   "metadata": {},
   "source": [
    "Churn is a one of the biggest problem in the telecom industry with Telco companies aiming to attract new customers and at the same time avoid contract terminations to grow their revenue-generating base. Looking at churn, different reasons trigger customers to terminate their contracts, for example, better price offers more interesting packages, bad service experiences, or changes in customers’ personal situations. Prediction models can be utilised to predict churn on an individual customer basis and take countermeasures such as discounts, special offers, or other gratifications to keep their customers.This project aims to develop a predictive model to predict customer churn for SyriaTel.The primary objective is to build a predictive model to identify customers likely to churn and recommend actionable insights to retain them. SyriaTel's stakeholders especially the company's management and marketing team stand to learn and benefit more from the project. Other companies within the telecommunications industry are also in place to learn and benefit."
   ]
  },
  {
   "cell_type": "markdown",
   "metadata": {},
   "source": [
    "<h1 style=\"text-align:center;\">DATA UNDERSTANDING</h1>"
   ]
  },
  {
   "cell_type": "markdown",
   "metadata": {},
   "source": [
    "Here we will load the provided dataset, explore the dataset structure, including data types, missing values, and basic statistics and finally visualize key variables to understand distributions and relationships. The SyriaTel Customer Churn was obtain form Kaggle website and comprises of columns and rows with customer demographics and recorded customer dataset. Churn is the target variable with the other features serving as predictors and will be used based on their predicted suitability. "
   ]
  },
  {
   "cell_type": "markdown",
   "metadata": {},
   "source": []
  }
 ],
 "metadata": {
  "kernelspec": {
   "display_name": "learn-env",
   "language": "python",
   "name": "python3"
  },
  "language_info": {
   "name": "python",
   "version": "3.8.5"
  }
 },
 "nbformat": 4,
 "nbformat_minor": 2
}
