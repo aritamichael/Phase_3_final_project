{
 "cells": [
  {
   "cell_type": "markdown",
   "metadata": {},
   "source": [
    "<h1 style=\"text-align:center;\">TELECOM CHURN PREDICTION (SYRIA TEL) </h1>\n"
   ]
  },
  {
   "cell_type": "markdown",
   "metadata": {},
   "source": [
    "<h1 style=\"text-align:center;\">BUSINESS UNDERSTANDING  </h1>\n"
   ]
  },
  {
   "cell_type": "markdown",
   "metadata": {},
   "source": [
    "Churn is a one of the biggest problem in the telecom industry with Telco companies aiming to attract new customers and at the same time avoid contract terminations to grow their revenue-generating base. Looking at churn, different reasons trigger customers to terminate their contracts, for example, better price offers more interesting packages, bad service experiences, or changes in customers’ personal situations. Prediction models can be utilised to predict churn on an individual customer basis and take countermeasures such as discounts, special offers, or other gratifications to keep their customers.This project aims to develop a predictive model to predict customer churn for SyriaTel.The primary objective is to build a predictive model to identify customers likely to churn and recommend actionable insights to retain them. SyriaTel's stakeholders especially the company's management and marketing team stand to learn and benefit more from the project. Other companies within the telecommunications industry are also in place to learn and benefit."
   ]
  },
  {
   "cell_type": "markdown",
   "metadata": {},
   "source": [
    "<h1 style=\"text-align:center;\">DATA UNDERSTANDING</h1>"
   ]
  },
  {
   "cell_type": "markdown",
   "metadata": {},
   "source": [
    "This part aimsto give meaning to the data through loading the provided dataset, explore the dataset structure, including data types, missing values, and basic statistics.\n",
    "Visualize key variables to understand distributions and relationships.We dive into data preparation to describe and understand the data better. "
   ]
  },
  {
   "cell_type": "code",
   "execution_count": 6,
   "metadata": {},
   "outputs": [
    {
     "data": {
      "text/plain": [
       "{'shape': (3333, 21),\n",
       " 'columns': ['state',\n",
       "  'account length',\n",
       "  'area code',\n",
       "  'phone number',\n",
       "  'international plan',\n",
       "  'voice mail plan',\n",
       "  'number vmail messages',\n",
       "  'total day minutes',\n",
       "  'total day calls',\n",
       "  'total day charge',\n",
       "  'total eve minutes',\n",
       "  'total eve calls',\n",
       "  'total eve charge',\n",
       "  'total night minutes',\n",
       "  'total night calls',\n",
       "  'total night charge',\n",
       "  'total intl minutes',\n",
       "  'total intl calls',\n",
       "  'total intl charge',\n",
       "  'customer service calls',\n",
       "  'churn'],\n",
       " 'missing_values': {'state': 0,\n",
       "  'account length': 0,\n",
       "  'area code': 0,\n",
       "  'phone number': 0,\n",
       "  'international plan': 0,\n",
       "  'voice mail plan': 0,\n",
       "  'number vmail messages': 0,\n",
       "  'total day minutes': 0,\n",
       "  'total day calls': 0,\n",
       "  'total day charge': 0,\n",
       "  'total eve minutes': 0,\n",
       "  'total eve calls': 0,\n",
       "  'total eve charge': 0,\n",
       "  'total night minutes': 0,\n",
       "  'total night calls': 0,\n",
       "  'total night charge': 0,\n",
       "  'total intl minutes': 0,\n",
       "  'total intl calls': 0,\n",
       "  'total intl charge': 0,\n",
       "  'customer service calls': 0,\n",
       "  'churn': 0},\n",
       " 'sample_data': [{'state': 'KS',\n",
       "   'account length': 128,\n",
       "   'area code': 415,\n",
       "   'phone number': '382-4657',\n",
       "   'international plan': 'no',\n",
       "   'voice mail plan': 'yes',\n",
       "   'number vmail messages': 25,\n",
       "   'total day minutes': 265.1,\n",
       "   'total day calls': 110,\n",
       "   'total day charge': 45.07,\n",
       "   'total eve minutes': 197.4,\n",
       "   'total eve calls': 99,\n",
       "   'total eve charge': 16.78,\n",
       "   'total night minutes': 244.7,\n",
       "   'total night calls': 91,\n",
       "   'total night charge': 11.01,\n",
       "   'total intl minutes': 10.0,\n",
       "   'total intl calls': 3,\n",
       "   'total intl charge': 2.7,\n",
       "   'customer service calls': 1,\n",
       "   'churn': False},\n",
       "  {'state': 'OH',\n",
       "   'account length': 107,\n",
       "   'area code': 415,\n",
       "   'phone number': '371-7191',\n",
       "   'international plan': 'no',\n",
       "   'voice mail plan': 'yes',\n",
       "   'number vmail messages': 26,\n",
       "   'total day minutes': 161.6,\n",
       "   'total day calls': 123,\n",
       "   'total day charge': 27.47,\n",
       "   'total eve minutes': 195.5,\n",
       "   'total eve calls': 103,\n",
       "   'total eve charge': 16.62,\n",
       "   'total night minutes': 254.4,\n",
       "   'total night calls': 103,\n",
       "   'total night charge': 11.45,\n",
       "   'total intl minutes': 13.7,\n",
       "   'total intl calls': 3,\n",
       "   'total intl charge': 3.7,\n",
       "   'customer service calls': 1,\n",
       "   'churn': False},\n",
       "  {'state': 'NJ',\n",
       "   'account length': 137,\n",
       "   'area code': 415,\n",
       "   'phone number': '358-1921',\n",
       "   'international plan': 'no',\n",
       "   'voice mail plan': 'no',\n",
       "   'number vmail messages': 0,\n",
       "   'total day minutes': 243.4,\n",
       "   'total day calls': 114,\n",
       "   'total day charge': 41.38,\n",
       "   'total eve minutes': 121.2,\n",
       "   'total eve calls': 110,\n",
       "   'total eve charge': 10.3,\n",
       "   'total night minutes': 162.6,\n",
       "   'total night calls': 104,\n",
       "   'total night charge': 7.32,\n",
       "   'total intl minutes': 12.2,\n",
       "   'total intl calls': 5,\n",
       "   'total intl charge': 3.29,\n",
       "   'customer service calls': 0,\n",
       "   'churn': False},\n",
       "  {'state': 'OH',\n",
       "   'account length': 84,\n",
       "   'area code': 408,\n",
       "   'phone number': '375-9999',\n",
       "   'international plan': 'yes',\n",
       "   'voice mail plan': 'no',\n",
       "   'number vmail messages': 0,\n",
       "   'total day minutes': 299.4,\n",
       "   'total day calls': 71,\n",
       "   'total day charge': 50.9,\n",
       "   'total eve minutes': 61.9,\n",
       "   'total eve calls': 88,\n",
       "   'total eve charge': 5.26,\n",
       "   'total night minutes': 196.9,\n",
       "   'total night calls': 89,\n",
       "   'total night charge': 8.86,\n",
       "   'total intl minutes': 6.6,\n",
       "   'total intl calls': 7,\n",
       "   'total intl charge': 1.78,\n",
       "   'customer service calls': 2,\n",
       "   'churn': False},\n",
       "  {'state': 'OK',\n",
       "   'account length': 75,\n",
       "   'area code': 415,\n",
       "   'phone number': '330-6626',\n",
       "   'international plan': 'yes',\n",
       "   'voice mail plan': 'no',\n",
       "   'number vmail messages': 0,\n",
       "   'total day minutes': 166.7,\n",
       "   'total day calls': 113,\n",
       "   'total day charge': 28.34,\n",
       "   'total eve minutes': 148.3,\n",
       "   'total eve calls': 122,\n",
       "   'total eve charge': 12.61,\n",
       "   'total night minutes': 186.9,\n",
       "   'total night calls': 121,\n",
       "   'total night charge': 8.41,\n",
       "   'total intl minutes': 10.1,\n",
       "   'total intl calls': 3,\n",
       "   'total intl charge': 2.73,\n",
       "   'customer service calls': 3,\n",
       "   'churn': False}]}"
      ]
     },
     "execution_count": 6,
     "metadata": {},
     "output_type": "execute_result"
    }
   ],
   "source": [
    "import pandas as pd\n",
    "\n",
    "#Load the dataset to examine its contents\n",
    "data = pd.read_csv(\"Syria_Telcommunication_Customer_Churn_Data.CSV\")\n",
    "\n",
    "# Display general information about the dataset\n",
    "dataset_info = {\n",
    "    \"shape\": data.shape,\n",
    "    \"columns\": data.columns.tolist(),\n",
    "    \"missing_values\": data.isnull().sum().to_dict(),\n",
    "    \"sample_data\": data.head().to_dict(orient='records')\n",
    "}\n",
    "\n",
    "dataset_info"
   ]
  },
  {
   "cell_type": "markdown",
   "metadata": {},
   "source": []
  },
  {
   "cell_type": "markdown",
   "metadata": {},
   "source": [
    "<h1 style=\"text-align:center;\">PREPARATION OF DATA</h1>"
   ]
  }
 ],
 "metadata": {
  "kernelspec": {
   "display_name": "learn-env",
   "language": "python",
   "name": "python3"
  },
  "language_info": {
   "codemirror_mode": {
    "name": "ipython",
    "version": 3
   },
   "file_extension": ".py",
   "mimetype": "text/x-python",
   "name": "python",
   "nbconvert_exporter": "python",
   "pygments_lexer": "ipython3",
   "version": "3.8.5"
  }
 },
 "nbformat": 4,
 "nbformat_minor": 2
}
